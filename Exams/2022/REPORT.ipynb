{
 "cells": [
  {
   "cell_type": "markdown",
   "id": "88b51765-5ff1-4157-b2d6-a0ebdcb3a1e2",
   "metadata": {},
   "source": [
    "| Final Exam for ATW Fall-2022 |\n",
    "|:-:|\n",
    "| Petros Elia, elia@eurecom.fr | \n",
    "| February 7th, 2023 |"
   ]
  },
  {
   "cell_type": "markdown",
   "id": "ec92c445-3891-4b23-8cb7-4de7988cd4c4",
   "metadata": {},
   "source": [
    "$$\\text{Instructions}$$\n",
    "\n",
    "- Exercises fall in categories of 1-point and 2-point exercises.\n",
    "- Total of $(14\\times1 + 3\\times3 + 1\\times4)$ +one extra credit exercise for $5$ points = total = $27 + 5 = 32$ points (where naturally the 100% grade corresponds to 27 points).\n",
    "- The last exercise is for extra credit.\n",
    "- Open book and open class notes are allowed (including notes taken by students during exam). No\n",
    "other notes are allowed.\n",
    "- Each answer should be clearly written, and the solution should be developed in detail.\n",
    "- Mathematical derivations need to show all steps that lead to the answer.\n",
    "- Partial credit will be given for incomplete solutions.\n",
    "- There is NO penalty for incorrect solutions.\n",
    "\n",
    "$$\\text{Hints - equations - conventions:}$$\n",
    "\n",
    "- Notation\n",
    "    - $R$ represents the rate of communication in bits per channel use (b.p.c.u),\n",
    "    - $\\rho$ represents the SNR (signal to noise ratio),\n",
    "    - $w$ will denote additive noise which will be distributed as a circularly symmetric Gaussian random variable $\\mathbb{C}\\mathcal{N}(0,N_0)$. If $N_0$ is not specified, then set $N_0 = 1$,\n",
    "    - Remember: for a given signal-to-noise ratio (SNR), then SNR in dB is simply $10 \\log_{10}$ SNR\n",
    "    - SISO stands for single-input single-output, MISO stands for multiple-input single output, SIMO stands for single-input multiple output, MIMO stands for multiple input multiple output.\n",
    "    - CSIT stands for channel state information at the transmitter, while CSIR stands for channel state information at the receiver.\n",
    "    - AWGN stands for additive white Gaussian noise\n",
    "\n",
    "- GOOD LUCK!!"
   ]
  },
  {
   "cell_type": "code",
   "execution_count": null,
   "id": "38adc0c6-7a2f-4308-84da-f4a445e3a2a0",
   "metadata": {},
   "outputs": [],
   "source": []
  }
 ],
 "metadata": {
  "kernelspec": {
   "display_name": "Julia 1.11.3",
   "language": "julia",
   "name": "julia-1.11"
  },
  "language_info": {
   "file_extension": ".jl",
   "mimetype": "application/julia",
   "name": "julia",
   "version": "1.11.3"
  }
 },
 "nbformat": 4,
 "nbformat_minor": 5
}
