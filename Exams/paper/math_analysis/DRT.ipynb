{
 "cells": [
  {
   "cell_type": "markdown",
   "id": "cdc8e0b8-4a9d-47da-bde6-de502bf1705d",
   "metadata": {},
   "source": [
    "$\n",
    "\\mathbf{X} = \\sqrt{T} (\\tilde{\\mathbf{R}}_X^{SC})^{\\frac{1}{2}} \\mathbf{Q} = \\sqrt{T} {\\color{orange}\\mathbf{U}_S \\mathbf{\\Lambda}_S^{\\frac{1}{2}}} {\\color{purple}\\mathbf{Q}} \\qquad\n",
    "\\mathbf{X} = \\sqrt{T} (\\tilde{\\mathbf{R}}_X^{CS})^{\\frac{1}{2}} \\mathbf{D} = \\sqrt{T} {\\color{orange}\\mathbf{U}_c \\mathbf{\\Lambda}_c^{\\frac{1}{2}}} {\\color{purple}\\mathbf{D}}\n",
    "$"
   ]
  },
  {
   "cell_type": "markdown",
   "id": "7f5287e5-1d3a-485d-abdf-47378f4917e8",
   "metadata": {},
   "source": [
    "Randomness of the ISAC signal reduces when moving from  $P_{CS}$ to $P_{SC}$\n"
   ]
  },
  {
   "cell_type": "code",
   "execution_count": null,
   "id": "7d05b5e0-8c95-43ae-9ffb-607662e86591",
   "metadata": {},
   "outputs": [],
   "source": []
  }
 ],
 "metadata": {
  "kernelspec": {
   "display_name": "Julia 1.11.1",
   "language": "julia",
   "name": "julia-1.11"
  },
  "language_info": {
   "file_extension": ".jl",
   "mimetype": "application/julia",
   "name": "julia",
   "version": "1.11.1"
  }
 },
 "nbformat": 4,
 "nbformat_minor": 5
}
