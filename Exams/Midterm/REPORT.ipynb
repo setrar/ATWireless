{
 "cells": [
  {
   "cell_type": "markdown",
   "id": "8481d02c-8fc3-49f0-9b86-84941b78c8f6",
   "metadata": {},
   "source": [
    "$$\n",
    "\\text{Midterm Take-Home Exam}\n",
    "$$\n",
    "$$\n",
    "\\text{December 20, 2024 (DUE January 10, 2025)}\n",
    "$$"
   ]
  },
  {
   "cell_type": "markdown",
   "id": "0503fdd5-3201-4f1b-8c90-67e971a6dd00",
   "metadata": {},
   "source": [
    "$$\n",
    "\\text{Instructions}\n",
    "$$\n",
    "\n",
    "- Open book and open class notes are allowed (including notes taken by students during exam). No other notes are allowed.\n",
    "  \n",
    "- Each answer should be clearly written, and the solution should be developed in detail.\n",
    "  \n",
    "- Mathematical derivations need to show all steps that lead to the answer.\n",
    "  \n",
    "- Partial credit will be given for incomplete solutions.\n",
    "  \n",
    "- There is NO penalty for incorrect solutions."
   ]
  },
  {
   "cell_type": "markdown",
   "id": "565d23fe-4016-4b4c-9a8f-0689ffea3530",
   "metadata": {},
   "source": [
    "$$\n",
    "\\text{Hints - equations - conventions:}\n",
    "$$\n",
    "\n",
    "- Notation\n",
    "\n",
    "    - $R$ represents the rate of communication in bits per channel use (bpcu),\n",
    "      \n",
    "    - $\\rho$ represents the SNR (signal to noise ratio),\n",
    "      \n",
    "    - $w$ will denote additive noise which will be distributed as a circularly symmetric Gaussian random variable $\\mathbb{C}\\mathcal{N}(0,N_0)$. If $N_0$ is not specified, then set $N_0 = 1$,\n",
    "      \n",
    "    - Remember: for a given signal-to-noise ratio (SNR), then SNR in dB is simply $10 log_{10} SNR$\n",
    "      \n",
    "    - SISO stands for single-input single-output, MISO stands for multiple-input single output, SIMO stands for single-input multiple output, MIMO stands for multiple input multiple output.\n",
    "      \n",
    "    - MU stands for multi-user.\n",
    "      \n",
    "    - CSIT stands for channel state information at the transmitter, while CSIR stands for channel state information at the receiver.\n",
    "      \n",
    "    - AWGN stands for additive white Gaussian noise.\n",
    "\n",
    "- GOOD LUCK!!"
   ]
  },
  {
   "cell_type": "markdown",
   "id": "617987ba-f352-4ece-b078-f19d29eed2c0",
   "metadata": {},
   "source": [
    "$$\\text{EXAM PROBLEMS}$$"
   ]
  },
  {
   "cell_type": "markdown",
   "id": "a1bd6f3a-c5f8-4bc0-a014-0f5af6df1bc0",
   "metadata": {},
   "source": [
    "1\\) ___(1 point)___. Consider a SISO setting, with no fading. Consider that the maximum possible rate (i.e., the capacity) is equal to 7 bpcu. What is the minimum SNR required to achieve this rate? Do you need CSIR?"
   ]
  },
  {
   "cell_type": "code",
   "execution_count": null,
   "id": "87fbc607-5f09-4134-aa14-9cfbcc6aa841",
   "metadata": {},
   "outputs": [],
   "source": []
  },
  {
   "cell_type": "markdown",
   "id": "7e2331bc-51b8-47b5-ab8c-00ed450ad5dc",
   "metadata": {},
   "source": [
    "2\\) ___(1 point)___. Consider a SISO quasi-static fading channel with no CSIT. We wish to decrease the probability of error, from $P_{err} \\approx (SNR)^{−1}$ to $P_{err} \\approx (SNR)^{−4}$. Suggest various ways we can\n",
    "achieve this, based on what we have learned in class."
   ]
  },
  {
   "cell_type": "code",
   "execution_count": null,
   "id": "e900e775-56d4-44d1-9647-9e8f09af1b2c",
   "metadata": {},
   "outputs": [],
   "source": []
  },
  {
   "cell_type": "markdown",
   "id": "8618e9cc-c1c9-4ad7-86ef-9cba2d762034",
   "metadata": {},
   "source": [
    "3\\) ___(1 point)___. What are some of the advantages of MISO vs. SIMO, mentioned in class?"
   ]
  },
  {
   "cell_type": "code",
   "execution_count": null,
   "id": "456adbd5-f92b-43c3-a58e-172297243d9f",
   "metadata": {},
   "outputs": [],
   "source": []
  },
  {
   "cell_type": "markdown",
   "id": "475255b6-cdf3-4334-ae56-581075c35c9f",
   "metadata": {},
   "source": [
    "4\\) ___(1 point)___. In a single-user MIMO channel, how much diversity gain would we be able to get if we employed a transmitter with 4 transmit antennas and a receiver with 2 receive antennas, when in fact the channel between the first transmit and receive antenna, is identical always to the channel between the first transmit and second receive antenna?"
   ]
  },
  {
   "cell_type": "code",
   "execution_count": null,
   "id": "05c86648-680a-4ef3-8f01-6c414171f19b",
   "metadata": {},
   "outputs": [],
   "source": []
  },
  {
   "cell_type": "markdown",
   "id": "a4ee06ee-1d36-438e-ba18-bda771898931",
   "metadata": {},
   "source": [
    "5\\) ___(1 point)___. In a single-user MISO channel, how much multiplexing gain would we be able to get if we employed a transmitter with 2 transmit antennas?"
   ]
  },
  {
   "cell_type": "code",
   "execution_count": null,
   "id": "6203c48d-e0e6-4198-acb6-c40cb27c5d58",
   "metadata": {},
   "outputs": [],
   "source": []
  },
  {
   "cell_type": "markdown",
   "id": "5c9a22d0-9e1b-4fe0-bd8e-f96cb97017a2",
   "metadata": {},
   "source": [
    "6\\) ___(1 points)___. Consider communication over a quasi-static $2 \\times 1$ MISO fading channel. Assume that you must draw symbols from 16-QAM.\n",
    "\n",
    "- Can you name a space time code, that gives full diversity in this setting, and then describe the rate (in bpcu) of such a code."
   ]
  },
  {
   "cell_type": "code",
   "execution_count": null,
   "id": "13b0d122-ee7f-4839-a782-882290a3b3b9",
   "metadata": {},
   "outputs": [],
   "source": []
  },
  {
   "cell_type": "markdown",
   "id": "10d58861-26e0-4abd-b75b-4ad56c88f220",
   "metadata": {},
   "source": [
    "7\\) ___(3 points)___. In the context of various strategies, answer if each of the following statements are true or false, justifying briefly your answers.\n",
    "\n",
    "- In a MISO channel, we can get transmitter beamforming gain even without CSIT.\n",
    "  \n",
    "- A base station equipped with 5 antennas in the downlink, can simultaneously serve up to 5 users (single receive antenna each).\n",
    "\n",
    "- A base station equipped with 5 antennas in the downlink, can simultaneously serve up to 10 users (two receive antennas each).\n",
    "  \n",
    "- A base station equipped with 4 antennas in the downlink, can simultaneously serve up to 2 users (two receive antennas each).\n",
    "\n",
    "- Line of sight channels are detrimental for spatial multiplexing in both single-user and multiuser MIMO.\n",
    "\n",
    "- For a MIMO receiver using spatial multiplexing, the complexity of ZF receiver is more than the complexity of the maximum-likelihood receiver.\n",
    "\n",
    "- CSIT is easier to obtain than CSIR.\n",
    "\n",
    "- CSIT is of cardinal importance in multi-user MIMO."
   ]
  },
  {
   "cell_type": "code",
   "execution_count": null,
   "id": "d2fbd645-08c4-48d5-a3d9-5cbaeed763ff",
   "metadata": {},
   "outputs": [],
   "source": []
  },
  {
   "cell_type": "markdown",
   "id": "efd51e91-2bcc-4eb1-b0b0-019a322dacb4",
   "metadata": {},
   "source": [
    "8\\) ___(2 points)___. In a MU-MIMO channel, if I double the number of users I simultaneously serve, must I always halve the individual rate to each user? Justify your answer."
   ]
  },
  {
   "cell_type": "code",
   "execution_count": null,
   "id": "1478f7b6-4083-4cc1-b73c-637e99afdf1a",
   "metadata": {},
   "outputs": [],
   "source": []
  },
  {
   "cell_type": "markdown",
   "id": "76332a60-6800-4414-9b33-bc983919df2e",
   "metadata": {},
   "source": [
    "9\\) ___(4 points)___. Consider communication over the $2 \\times 1$ quasi-static fading MISO channel, using a diagonal\n",
    "code (see below for details) such that the channel model is given by\n",
    "\n",
    "$$\n",
    "\\overbrace{(y_1 \\quad y_2)}^{\\underline{y}} = \\theta \\; \\overbrace{(h_1 \\quad h_2)}^{\\underline{h}} \\overbrace{\\Bigl(\\begin{matrix} x_1&0 \\\\ 0&x_2 \\end{matrix} \\Bigr)}^{\\mathcal{X}_{tr}} + \\overbrace{(w_1 \\quad w_2)}^{\\underline{w}}\n",
    "$$\n",
    "\n",
    "where $h_i \\sim \\mathbb{C}N(0,1)$ and $w_i \\sim \\mathbb{C}N(0,1)$ , and where $\\theta$ is the power normalization factor that lets you regulate SNR.\n",
    "\n",
    "- Describe the ML decoding rule for this case.\n",
    "- Describe the $\\text{cardinality}^1$ of code $\\mathcal{X}_{tr}$ if you wish a rate of $R = 4$ bpcu.\n",
    "- For a desired rate of $R = 8$ bpcu, and a desired SNR = 10 dB (where by SNR we mean the AVERAGE signal power divided by the noise unit power, under QAM) then what is the normalizing factor $\\theta$ ?\n",
    "- Imagine that what you transmit $(x_1,x_2)$ are independently chosen from 16-PAM, then\n",
    "    - What is the rate of your code (in bpcu)?\n",
    "    - What is the slope of your probability of error, in high SNR, if you plot on the y-axis the probability of error, in log scale ($\\log_{10}(\\text{Prob})$), and the x-axis is the SNR, in dB?\n",
    "- Imagine now that $( x_1 x_2 ) = s_1 s_2 \\cdot \\mathbf{Q}$, where s1,s2 are independently chosen from a 64-QAM constellation, where the matrix $\\mathbf{Q}$ is a randomly chosen orthogonal matrix. Then\n",
    "    - What is the rate of your code?   \n",
    "    - What is the aforementioned slope of your probability of error?"
   ]
  },
  {
   "cell_type": "code",
   "execution_count": null,
   "id": "244d1ca4-7dea-4c84-a421-ec9c28729a12",
   "metadata": {},
   "outputs": [],
   "source": []
  },
  {
   "cell_type": "markdown",
   "id": "8c4a5f15-0a4d-44d0-93b9-60ce4ddb392a",
   "metadata": {},
   "source": [
    "10\\) ___(Extra Credit: 5 points)___. Consider communication over a quasi-static $2 \\times 2$ MIMO channel, utilizing the space-time code $\\mathcal{X} = \\{\\mathbf{X}_1,\\mathbf{X}_2,\\mathbf{X}_3,\\mathbf{X}_4\\}$, where\n",
    "\n",
    "$$\n",
    "\\mathbf{X}_1 =\n",
    "\\begin{bmatrix}\n",
    "  1 & -1 \\\\\n",
    "  1 & 1\n",
    "\\end{bmatrix},\n",
    "\\mathbf{X}_2 =\n",
    "\\begin{bmatrix}\n",
    "  1 & 1 \\\\\n",
    "  -1 & 1\n",
    "\\end{bmatrix},\n",
    "\\mathbf{X}_3 =\n",
    "\\begin{bmatrix}\n",
    "  -1 & -1 \\\\\n",
    "  1 & -1\n",
    "\\end{bmatrix}\n",
    "\\text{and} \\,\n",
    "\\mathbf{X}_4 =\n",
    "\\begin{bmatrix}\n",
    "  -1 & 1 \\\\\n",
    "  -1 & -1\n",
    "\\end{bmatrix},\n",
    "$$\n",
    "\n",
    "- What is the average SNR?\n",
    "- What is the rate of the code in bpcu?\n",
    "- What is the diversity gain of this code?\n",
    "- What is the approximate (in the high SNR regime) probability of error of this code, if SNR is 30dB?"
   ]
  },
  {
   "cell_type": "code",
   "execution_count": null,
   "id": "2ee56248-2335-48a9-827e-f8d24eded678",
   "metadata": {},
   "outputs": [],
   "source": []
  }
 ],
 "metadata": {
  "kernelspec": {
   "display_name": "Julia 1.11.1",
   "language": "julia",
   "name": "julia-1.11"
  },
  "language_info": {
   "file_extension": ".jl",
   "mimetype": "application/julia",
   "name": "julia",
   "version": "1.11.1"
  }
 },
 "nbformat": 4,
 "nbformat_minor": 5
}
